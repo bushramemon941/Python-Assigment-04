{
  "nbformat": 4,
  "nbformat_minor": 0,
  "metadata": {
    "colab": {
      "provenance": []
    },
    "kernelspec": {
      "name": "python3",
      "display_name": "Python 3"
    },
    "language_info": {
      "name": "python"
    }
  },
  "cells": [
    {
      "cell_type": "code",
      "execution_count": null,
      "metadata": {
        "colab": {
          "base_uri": "https://localhost:8080/"
        },
        "id": "tQBi6V2dfshu",
        "outputId": "e18a84c5-0e70-451c-b257-31025920ef0f"
      },
      "outputs": [
        {
          "output_type": "stream",
          "name": "stdout",
          "text": [
            "01_add_two_numbers\n",
            "This Application for add two numbers\n",
            "Enter first number2\n",
            "Enter second number20\n",
            "The total sum of 2 and 20 is 22\n"
          ]
        }
      ],
      "source": [
        "from ast import Add\n",
        "print(\"01_add_two_numbers\")\n",
        "\n",
        "def add():\n",
        "  print('This Application for add two numbers')\n",
        "  first_number = int(input(\"Enter first number\"))\n",
        "  second_number = int(input(\"Enter second number\"))\n",
        "  total= int(first_number+second_number)\n",
        "  print(f'The total sum of {first_number} and {second_number} is {total}')\n",
        "if __name__ == '__main__':\n",
        "  add()\n"
      ]
    },
    {
      "cell_type": "code",
      "source": [
        "print(\"03_fahrenheit_to_celsius.md\")\n",
        "\n",
        "def temp():\n",
        "  print(\"This code for converting fahrenheit to celsius\")\n",
        "  fahrenheit_degree = float(input(\"Enter your fahrenheit degree. \"))\n",
        "  celsius_degree = (fahrenheit_degree - 32) * 5.0/9.0\n",
        "  print(f'Temperature{fahrenheit_degree}F * {celsius_degree}C')\n",
        "if __name__ == '__main__':\n",
        "  temp()"
      ],
      "metadata": {
        "colab": {
          "base_uri": "https://localhost:8080/"
        },
        "id": "71u-TlDKwh98",
        "outputId": "5063714d-bece-4026-c406-e3634e0a961c"
      },
      "execution_count": null,
      "outputs": [
        {
          "output_type": "stream",
          "name": "stdout",
          "text": [
            "03_fahrenheit_to_celsius.md\n",
            "This code for converting fahrenheit to celsius\n",
            "Enter your fahrenheit degree. 45\n",
            "Temperature45.0F * 7.222222222222222C\n"
          ]
        }
      ]
    },
    {
      "cell_type": "code",
      "source": [
        "print(\"04_how_old_are_they.md\")\n",
        "def add_ages():\n",
        "  anthon:int = 21\n",
        "  beth:int = anthon + 6\n",
        "  chen:int = beth + 20\n",
        "  drew:int = chen + anthon\n",
        "  ethan:int =  chen\n",
        "\n",
        "  print(\"Anthon is \" +  str(anthon))\n",
        "  print(\"Beth is \" + str(beth))\n",
        "  print(\"Chen is \" + str(chen))\n",
        "  print(\"Drew is \" + str(drew))\n",
        "  print(\"Ethan is \" + str(ethan))\n",
        "if __name__ == '__main__':\n",
        "  add_ages()\n"
      ],
      "metadata": {
        "colab": {
          "base_uri": "https://localhost:8080/"
        },
        "id": "8ixEuF2awrOM",
        "outputId": "1b0edb77-09ca-4219-9581-5864ddd0569c"
      },
      "execution_count": null,
      "outputs": [
        {
          "output_type": "stream",
          "name": "stdout",
          "text": [
            "04_how_old_are_they.md\n",
            "Anthon is 21\n",
            "Beth is 27\n",
            "Chen is 47\n",
            "Drew is 68\n",
            "Ethan is 47\n"
          ]
        }
      ]
    },
    {
      "cell_type": "code",
      "source": [
        "print(\"05_triangle_perimeter.md\")\n",
        "\n",
        "def triangle():\n",
        "  print(\"This code is about perimeter of triangle \")\n",
        "  side1:float = float(input(\"Enter your first side no of triangle. \"))\n",
        "  side2:float = float(input(\"Enter your second side no of triangle. \"))\n",
        "  side3:float = float(input(\"Enter your third side no of triangle. \"))\n",
        "  total:float = float(side1 + side2 + side3)\n",
        "  print(f'The perimeter  of {side1}, {side2} and {side3} is {total}')\n",
        "\n",
        "if __name__ == '__main__':\n",
        "    triangle()\n"
      ],
      "metadata": {
        "colab": {
          "base_uri": "https://localhost:8080/"
        },
        "id": "cKikusIYwwgK",
        "outputId": "b9659e87-c9b4-4779-e39b-68e13720b104"
      },
      "execution_count": null,
      "outputs": [
        {
          "output_type": "stream",
          "name": "stdout",
          "text": [
            "05_triangle_perimeter.md\n",
            "This code is about perimeter of triangle \n",
            "Enter your first side no of triangle. 6.7\n",
            "Enter your second side no of triangle. 5.5\n",
            "Enter your third side no of triangle. 7\n",
            "The perimeter  of 6.7, 5.5 and 7.0 is 19.2\n"
          ]
        }
      ]
    },
    {
      "cell_type": "code",
      "source": [
        "print(\"06_square_number.md\")\n",
        "\n",
        "def square():\n",
        "  print(\"This code is about square of given number\")\n",
        "  num1:int = int(input(\"Enter any number and i will give u a square  value. \"))\n",
        "  print(f'The square of {num1} is {num1** 2}')\n",
        "\n",
        "if __name__ == '__main__':\n",
        "    square()\n"
      ],
      "metadata": {
        "colab": {
          "base_uri": "https://localhost:8080/"
        },
        "id": "VUdgXtOgw04j",
        "outputId": "620ade46-e8dc-4a22-9dea-e8046b2e428c"
      },
      "execution_count": null,
      "outputs": [
        {
          "output_type": "stream",
          "name": "stdout",
          "text": [
            "06_square_number.md\n",
            "This code is about square of given number\n",
            "Enter any number and i will give u a square  value. 20\n",
            "The square of 20 is 400\n"
          ]
        }
      ]
    },
    {
      "cell_type": "code",
      "source": [
        "print(\"02_agreement-bot.md\")\n",
        "\n",
        "def bot():\n",
        "   animal = str(input(\"what is your favourite animal? \"))\n",
        "   print(f'My favourite animal is also {animal}')\n",
        "if __name__ == '__main__':\n",
        "  bot()\n",
        "\n"
      ],
      "metadata": {
        "colab": {
          "base_uri": "https://localhost:8080/"
        },
        "id": "WFNzRJe2vo4C",
        "outputId": "a5d2279a-f837-4abf-a191-524824fa88e4"
      },
      "execution_count": null,
      "outputs": [
        {
          "output_type": "stream",
          "name": "stdout",
          "text": [
            "02_agreement-bot.md\n",
            "what is your favourite animal? parrot\n",
            "My favourite animal is also parrot\n"
          ]
        }
      ]
    }
  ]
}